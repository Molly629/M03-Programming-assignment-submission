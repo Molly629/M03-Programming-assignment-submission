{
 "cells": [
  {
   "cell_type": "code",
   "execution_count": 4,
   "id": "b163eb01",
   "metadata": {
    "scrolled": true
   },
   "outputs": [
    {
     "name": "stdout",
     "output_type": "stream",
     "text": [
      "['mozerella', 'cinderella', 'salmonella']\n"
     ]
    }
   ],
   "source": [
    "things = ['mozerella','cinderella','salmonella']\n",
    "print(things)"
   ]
  },
  {
   "cell_type": "code",
   "execution_count": 3,
   "id": "71e8b597",
   "metadata": {},
   "outputs": [
    {
     "name": "stdout",
     "output_type": "stream",
     "text": [
      "['mozerella', 'Cinderella', 'salmonella']\n",
      "Yes, it did change the element in the list.\n"
     ]
    }
   ],
   "source": [
    "things = ['mozerella','Cinderella','salmonella']\n",
    "print(things)\n",
    "print('Yes, it did change the element in the list.')"
   ]
  },
  {
   "cell_type": "code",
   "execution_count": 5,
   "id": "f7dcf95b",
   "metadata": {},
   "outputs": [
    {
     "name": "stdout",
     "output_type": "stream",
     "text": [
      "['MOZERELLA', 'Cinderella', 'salmonella']\n"
     ]
    }
   ],
   "source": [
    "things = ['MOZERELLA','Cinderella','salmonella']\n",
    "print(things)"
   ]
  },
  {
   "cell_type": "code",
   "execution_count": 6,
   "id": "66aa5ed6",
   "metadata": {},
   "outputs": [
    {
     "name": "stdout",
     "output_type": "stream",
     "text": [
      "['Groucho', 'Chico', 'Harpo']\n"
     ]
    }
   ],
   "source": [
    "surprise = ['Groucho' ,'Chico', 'Harpo']\n",
    "print(surprise)"
   ]
  },
  {
   "cell_type": "code",
   "execution_count": 16,
   "id": "2465af17",
   "metadata": {},
   "outputs": [
    {
     "data": {
      "text/plain": [
       "['Harry', 'Ron', 'Hermione']"
      ]
     },
     "execution_count": 16,
     "metadata": {},
     "output_type": "execute_result"
    }
   ],
   "source": [
    "def good():\n",
    "    the_list = ['Harry','Ron','Hermione']\n",
    "    return the_list\n",
    "good()"
   ]
  },
  {
   "cell_type": "code",
   "execution_count": 56,
   "id": "25c13b8e",
   "metadata": {},
   "outputs": [
    {
     "name": "stdout",
     "output_type": "stream",
     "text": [
      "[0, 2, 4, 6, 8, 10]\n",
      "The third number is:  4\n"
     ]
    }
   ],
   "source": [
    "the_list = []\n",
    "def get_odds(first=0,last=11,step=2):\n",
    "    number = first\n",
    "    while number < last:\n",
    "        the_list.append(number)\n",
    "        number += step\n",
    "\n",
    "get_odds()\n",
    "print(the_list)\n",
    "print('The third number is: ', the_list[2])"
   ]
  }
 ],
 "metadata": {
  "kernelspec": {
   "display_name": "Python 3 (ipykernel)",
   "language": "python",
   "name": "python3"
  },
  "language_info": {
   "codemirror_mode": {
    "name": "ipython",
    "version": 3
   },
   "file_extension": ".py",
   "mimetype": "text/x-python",
   "name": "python",
   "nbconvert_exporter": "python",
   "pygments_lexer": "ipython3",
   "version": "3.10.9"
  }
 },
 "nbformat": 4,
 "nbformat_minor": 5
}
